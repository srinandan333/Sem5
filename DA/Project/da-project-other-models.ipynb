{
 "cells": [
  {
   "cell_type": "code",
   "execution_count": 1,
   "id": "07de5b1a",
   "metadata": {
    "execution": {
     "iopub.execute_input": "2022-11-17T03:07:56.593571Z",
     "iopub.status.busy": "2022-11-17T03:07:56.592500Z",
     "iopub.status.idle": "2022-11-17T03:07:57.634213Z",
     "shell.execute_reply": "2022-11-17T03:07:57.632513Z"
    },
    "papermill": {
     "duration": 1.052958,
     "end_time": "2022-11-17T03:07:57.637553",
     "exception": false,
     "start_time": "2022-11-17T03:07:56.584595",
     "status": "completed"
    },
    "tags": []
   },
   "outputs": [],
   "source": [
    "import numpy as np \n",
    "import pandas as pd \n",
    "from sklearn.metrics import mean_squared_error"
   ]
  },
  {
   "cell_type": "code",
   "execution_count": 2,
   "id": "39cb7bbb",
   "metadata": {
    "execution": {
     "iopub.execute_input": "2022-11-17T03:07:57.649129Z",
     "iopub.status.busy": "2022-11-17T03:07:57.647935Z",
     "iopub.status.idle": "2022-11-17T03:07:57.727768Z",
     "shell.execute_reply": "2022-11-17T03:07:57.726408Z"
    },
    "papermill": {
     "duration": 0.088588,
     "end_time": "2022-11-17T03:07:57.730895",
     "exception": false,
     "start_time": "2022-11-17T03:07:57.642307",
     "status": "completed"
    },
    "tags": []
   },
   "outputs": [
    {
     "data": {
      "text/html": [
       "<div>\n",
       "<style scoped>\n",
       "    .dataframe tbody tr th:only-of-type {\n",
       "        vertical-align: middle;\n",
       "    }\n",
       "\n",
       "    .dataframe tbody tr th {\n",
       "        vertical-align: top;\n",
       "    }\n",
       "\n",
       "    .dataframe thead th {\n",
       "        text-align: right;\n",
       "    }\n",
       "</style>\n",
       "<table border=\"1\" class=\"dataframe\">\n",
       "  <thead>\n",
       "    <tr style=\"text-align: right;\">\n",
       "      <th></th>\n",
       "      <th>SUBDIVISION</th>\n",
       "      <th>YEAR</th>\n",
       "      <th>JAN</th>\n",
       "      <th>FEB</th>\n",
       "      <th>MAR</th>\n",
       "      <th>APR</th>\n",
       "      <th>MAY</th>\n",
       "      <th>JUN</th>\n",
       "      <th>JUL</th>\n",
       "      <th>AUG</th>\n",
       "      <th>SEP</th>\n",
       "      <th>OCT</th>\n",
       "      <th>NOV</th>\n",
       "      <th>DEC</th>\n",
       "      <th>ANNUAL</th>\n",
       "      <th>JF</th>\n",
       "      <th>MAM</th>\n",
       "      <th>JJAS</th>\n",
       "      <th>OND</th>\n",
       "    </tr>\n",
       "  </thead>\n",
       "  <tbody>\n",
       "    <tr>\n",
       "      <th>0</th>\n",
       "      <td>Andaman &amp; Nicobar Islands</td>\n",
       "      <td>1901</td>\n",
       "      <td>49.2</td>\n",
       "      <td>87.1</td>\n",
       "      <td>29.2</td>\n",
       "      <td>2.3</td>\n",
       "      <td>528.8</td>\n",
       "      <td>517.5</td>\n",
       "      <td>365.1</td>\n",
       "      <td>481.1</td>\n",
       "      <td>332.6</td>\n",
       "      <td>388.5</td>\n",
       "      <td>558.2</td>\n",
       "      <td>33.6</td>\n",
       "      <td>3373.2</td>\n",
       "      <td>136.3</td>\n",
       "      <td>560.3</td>\n",
       "      <td>1696.3</td>\n",
       "      <td>980.3</td>\n",
       "    </tr>\n",
       "    <tr>\n",
       "      <th>1</th>\n",
       "      <td>Andaman &amp; Nicobar Islands</td>\n",
       "      <td>1902</td>\n",
       "      <td>0.0</td>\n",
       "      <td>159.8</td>\n",
       "      <td>12.2</td>\n",
       "      <td>0.0</td>\n",
       "      <td>446.1</td>\n",
       "      <td>537.1</td>\n",
       "      <td>228.9</td>\n",
       "      <td>753.7</td>\n",
       "      <td>666.2</td>\n",
       "      <td>197.2</td>\n",
       "      <td>359.0</td>\n",
       "      <td>160.5</td>\n",
       "      <td>3520.7</td>\n",
       "      <td>159.8</td>\n",
       "      <td>458.3</td>\n",
       "      <td>2185.9</td>\n",
       "      <td>716.7</td>\n",
       "    </tr>\n",
       "    <tr>\n",
       "      <th>2</th>\n",
       "      <td>Andaman &amp; Nicobar Islands</td>\n",
       "      <td>1903</td>\n",
       "      <td>12.7</td>\n",
       "      <td>144.0</td>\n",
       "      <td>0.0</td>\n",
       "      <td>1.0</td>\n",
       "      <td>235.1</td>\n",
       "      <td>479.9</td>\n",
       "      <td>728.4</td>\n",
       "      <td>326.7</td>\n",
       "      <td>339.0</td>\n",
       "      <td>181.2</td>\n",
       "      <td>284.4</td>\n",
       "      <td>225.0</td>\n",
       "      <td>2957.4</td>\n",
       "      <td>156.7</td>\n",
       "      <td>236.1</td>\n",
       "      <td>1874.0</td>\n",
       "      <td>690.6</td>\n",
       "    </tr>\n",
       "    <tr>\n",
       "      <th>3</th>\n",
       "      <td>Andaman &amp; Nicobar Islands</td>\n",
       "      <td>1904</td>\n",
       "      <td>9.4</td>\n",
       "      <td>14.7</td>\n",
       "      <td>0.0</td>\n",
       "      <td>202.4</td>\n",
       "      <td>304.5</td>\n",
       "      <td>495.1</td>\n",
       "      <td>502.0</td>\n",
       "      <td>160.1</td>\n",
       "      <td>820.4</td>\n",
       "      <td>222.2</td>\n",
       "      <td>308.7</td>\n",
       "      <td>40.1</td>\n",
       "      <td>3079.6</td>\n",
       "      <td>24.1</td>\n",
       "      <td>506.9</td>\n",
       "      <td>1977.6</td>\n",
       "      <td>571.0</td>\n",
       "    </tr>\n",
       "    <tr>\n",
       "      <th>4</th>\n",
       "      <td>Andaman &amp; Nicobar Islands</td>\n",
       "      <td>1905</td>\n",
       "      <td>1.3</td>\n",
       "      <td>0.0</td>\n",
       "      <td>3.3</td>\n",
       "      <td>26.9</td>\n",
       "      <td>279.5</td>\n",
       "      <td>628.7</td>\n",
       "      <td>368.7</td>\n",
       "      <td>330.5</td>\n",
       "      <td>297.0</td>\n",
       "      <td>260.7</td>\n",
       "      <td>25.4</td>\n",
       "      <td>344.7</td>\n",
       "      <td>2566.7</td>\n",
       "      <td>1.3</td>\n",
       "      <td>309.7</td>\n",
       "      <td>1624.9</td>\n",
       "      <td>630.8</td>\n",
       "    </tr>\n",
       "    <tr>\n",
       "      <th>...</th>\n",
       "      <td>...</td>\n",
       "      <td>...</td>\n",
       "      <td>...</td>\n",
       "      <td>...</td>\n",
       "      <td>...</td>\n",
       "      <td>...</td>\n",
       "      <td>...</td>\n",
       "      <td>...</td>\n",
       "      <td>...</td>\n",
       "      <td>...</td>\n",
       "      <td>...</td>\n",
       "      <td>...</td>\n",
       "      <td>...</td>\n",
       "      <td>...</td>\n",
       "      <td>...</td>\n",
       "      <td>...</td>\n",
       "      <td>...</td>\n",
       "      <td>...</td>\n",
       "      <td>...</td>\n",
       "    </tr>\n",
       "    <tr>\n",
       "      <th>4183</th>\n",
       "      <td>Lakshadweep</td>\n",
       "      <td>2013</td>\n",
       "      <td>26.2</td>\n",
       "      <td>34.4</td>\n",
       "      <td>37.5</td>\n",
       "      <td>5.3</td>\n",
       "      <td>88.3</td>\n",
       "      <td>426.2</td>\n",
       "      <td>296.4</td>\n",
       "      <td>154.4</td>\n",
       "      <td>180.0</td>\n",
       "      <td>72.8</td>\n",
       "      <td>78.1</td>\n",
       "      <td>26.7</td>\n",
       "      <td>1426.3</td>\n",
       "      <td>60.6</td>\n",
       "      <td>131.1</td>\n",
       "      <td>1057.0</td>\n",
       "      <td>177.6</td>\n",
       "    </tr>\n",
       "    <tr>\n",
       "      <th>4184</th>\n",
       "      <td>Lakshadweep</td>\n",
       "      <td>2014</td>\n",
       "      <td>53.2</td>\n",
       "      <td>16.1</td>\n",
       "      <td>4.4</td>\n",
       "      <td>14.9</td>\n",
       "      <td>57.4</td>\n",
       "      <td>244.1</td>\n",
       "      <td>116.1</td>\n",
       "      <td>466.1</td>\n",
       "      <td>132.2</td>\n",
       "      <td>169.2</td>\n",
       "      <td>59.0</td>\n",
       "      <td>62.3</td>\n",
       "      <td>1395.0</td>\n",
       "      <td>69.3</td>\n",
       "      <td>76.7</td>\n",
       "      <td>958.5</td>\n",
       "      <td>290.5</td>\n",
       "    </tr>\n",
       "    <tr>\n",
       "      <th>4185</th>\n",
       "      <td>Lakshadweep</td>\n",
       "      <td>2015</td>\n",
       "      <td>2.2</td>\n",
       "      <td>0.5</td>\n",
       "      <td>3.7</td>\n",
       "      <td>87.1</td>\n",
       "      <td>133.1</td>\n",
       "      <td>296.6</td>\n",
       "      <td>257.5</td>\n",
       "      <td>146.4</td>\n",
       "      <td>160.4</td>\n",
       "      <td>165.4</td>\n",
       "      <td>231.0</td>\n",
       "      <td>159.0</td>\n",
       "      <td>1642.9</td>\n",
       "      <td>2.7</td>\n",
       "      <td>223.9</td>\n",
       "      <td>860.9</td>\n",
       "      <td>555.4</td>\n",
       "    </tr>\n",
       "    <tr>\n",
       "      <th>4186</th>\n",
       "      <td>Lakshadweep</td>\n",
       "      <td>2016</td>\n",
       "      <td>59.6</td>\n",
       "      <td>12.1</td>\n",
       "      <td>3.2</td>\n",
       "      <td>2.6</td>\n",
       "      <td>77.4</td>\n",
       "      <td>321.1</td>\n",
       "      <td>262.6</td>\n",
       "      <td>86.2</td>\n",
       "      <td>75.6</td>\n",
       "      <td>58.6</td>\n",
       "      <td>32.0</td>\n",
       "      <td>74.7</td>\n",
       "      <td>1065.7</td>\n",
       "      <td>71.7</td>\n",
       "      <td>83.2</td>\n",
       "      <td>745.4</td>\n",
       "      <td>165.4</td>\n",
       "    </tr>\n",
       "    <tr>\n",
       "      <th>4187</th>\n",
       "      <td>Lakshadweep</td>\n",
       "      <td>2017</td>\n",
       "      <td>21.3</td>\n",
       "      <td>0.9</td>\n",
       "      <td>100.2</td>\n",
       "      <td>1.8</td>\n",
       "      <td>145.7</td>\n",
       "      <td>521.9</td>\n",
       "      <td>164.2</td>\n",
       "      <td>206.2</td>\n",
       "      <td>216.0</td>\n",
       "      <td>137.1</td>\n",
       "      <td>63.5</td>\n",
       "      <td>160.1</td>\n",
       "      <td>1738.9</td>\n",
       "      <td>22.2</td>\n",
       "      <td>247.8</td>\n",
       "      <td>1108.3</td>\n",
       "      <td>360.7</td>\n",
       "    </tr>\n",
       "  </tbody>\n",
       "</table>\n",
       "<p>4188 rows × 19 columns</p>\n",
       "</div>"
      ],
      "text/plain": [
       "                    SUBDIVISION  YEAR   JAN    FEB    MAR    APR    MAY  \\\n",
       "0     Andaman & Nicobar Islands  1901  49.2   87.1   29.2    2.3  528.8   \n",
       "1     Andaman & Nicobar Islands  1902   0.0  159.8   12.2    0.0  446.1   \n",
       "2     Andaman & Nicobar Islands  1903  12.7  144.0    0.0    1.0  235.1   \n",
       "3     Andaman & Nicobar Islands  1904   9.4   14.7    0.0  202.4  304.5   \n",
       "4     Andaman & Nicobar Islands  1905   1.3    0.0    3.3   26.9  279.5   \n",
       "...                         ...   ...   ...    ...    ...    ...    ...   \n",
       "4183                Lakshadweep  2013  26.2   34.4   37.5    5.3   88.3   \n",
       "4184                Lakshadweep  2014  53.2   16.1    4.4   14.9   57.4   \n",
       "4185                Lakshadweep  2015   2.2    0.5    3.7   87.1  133.1   \n",
       "4186                Lakshadweep  2016  59.6   12.1    3.2    2.6   77.4   \n",
       "4187                Lakshadweep  2017  21.3    0.9  100.2    1.8  145.7   \n",
       "\n",
       "        JUN    JUL    AUG    SEP    OCT    NOV    DEC  ANNUAL     JF    MAM  \\\n",
       "0     517.5  365.1  481.1  332.6  388.5  558.2   33.6  3373.2  136.3  560.3   \n",
       "1     537.1  228.9  753.7  666.2  197.2  359.0  160.5  3520.7  159.8  458.3   \n",
       "2     479.9  728.4  326.7  339.0  181.2  284.4  225.0  2957.4  156.7  236.1   \n",
       "3     495.1  502.0  160.1  820.4  222.2  308.7   40.1  3079.6   24.1  506.9   \n",
       "4     628.7  368.7  330.5  297.0  260.7   25.4  344.7  2566.7    1.3  309.7   \n",
       "...     ...    ...    ...    ...    ...    ...    ...     ...    ...    ...   \n",
       "4183  426.2  296.4  154.4  180.0   72.8   78.1   26.7  1426.3   60.6  131.1   \n",
       "4184  244.1  116.1  466.1  132.2  169.2   59.0   62.3  1395.0   69.3   76.7   \n",
       "4185  296.6  257.5  146.4  160.4  165.4  231.0  159.0  1642.9    2.7  223.9   \n",
       "4186  321.1  262.6   86.2   75.6   58.6   32.0   74.7  1065.7   71.7   83.2   \n",
       "4187  521.9  164.2  206.2  216.0  137.1   63.5  160.1  1738.9   22.2  247.8   \n",
       "\n",
       "        JJAS    OND  \n",
       "0     1696.3  980.3  \n",
       "1     2185.9  716.7  \n",
       "2     1874.0  690.6  \n",
       "3     1977.6  571.0  \n",
       "4     1624.9  630.8  \n",
       "...      ...    ...  \n",
       "4183  1057.0  177.6  \n",
       "4184   958.5  290.5  \n",
       "4185   860.9  555.4  \n",
       "4186   745.4  165.4  \n",
       "4187  1108.3  360.7  \n",
       "\n",
       "[4188 rows x 19 columns]"
      ]
     },
     "execution_count": 2,
     "metadata": {},
     "output_type": "execute_result"
    }
   ],
   "source": [
    "dataset = pd.read_csv((\"../input/rainfall/Sub_Division_IMD_2017.csv\"), encoding = \"ISO-8859-1\")\n",
    "dataset"
   ]
  },
  {
   "cell_type": "code",
   "execution_count": 3,
   "id": "ca5a79b1",
   "metadata": {
    "execution": {
     "iopub.execute_input": "2022-11-17T03:07:57.742499Z",
     "iopub.status.busy": "2022-11-17T03:07:57.742171Z",
     "iopub.status.idle": "2022-11-17T03:07:57.774922Z",
     "shell.execute_reply": "2022-11-17T03:07:57.773813Z"
    },
    "papermill": {
     "duration": 0.041207,
     "end_time": "2022-11-17T03:07:57.777355",
     "exception": false,
     "start_time": "2022-11-17T03:07:57.736148",
     "status": "completed"
    },
    "tags": []
   },
   "outputs": [
    {
     "name": "stderr",
     "output_type": "stream",
     "text": [
      "/opt/conda/lib/python3.7/site-packages/ipykernel_launcher.py:2: FutureWarning: Indexing with multiple keys (implicitly converted to a tuple of keys) will be deprecated, use a list instead.\n",
      "  \n"
     ]
    }
   ],
   "source": [
    "# Grouping By Subdivisions\n",
    "groups = dataset.groupby('SUBDIVISION')['YEAR','JAN','FEB','MAR','APR','MAY','JUN','JUL','AUG','SEP','NOV','DEC']\n",
    "\n",
    "# Creating a North Interior Karnataka focused Datafram\n",
    "data=groups.get_group(('North Interior Karnataka'))\n",
    "data=data.melt(['YEAR']).reset_index()\n",
    "df= data[['YEAR','variable','value']].reset_index().sort_values(by=['YEAR','index'])\n",
    "df.columns=['INDEX','YEAR','Month','avg_rainfall']\n",
    "\n",
    "# Encoding Months\n",
    "d={'JAN':1,'FEB':2,'MAR' :3,'APR':4,'MAY':5,'JUN':6,'JUL':7,'AUG':8,'SEP':9,\n",
    "   'OCT':10,'NOV':11,'DEC':12}\n",
    "df['Month']=df['Month'].map(d)"
   ]
  },
  {
   "cell_type": "code",
   "execution_count": 4,
   "id": "6b412d34",
   "metadata": {
    "execution": {
     "iopub.execute_input": "2022-11-17T03:07:57.788811Z",
     "iopub.status.busy": "2022-11-17T03:07:57.788390Z",
     "iopub.status.idle": "2022-11-17T03:07:57.812419Z",
     "shell.execute_reply": "2022-11-17T03:07:57.811346Z"
    },
    "papermill": {
     "duration": 0.032178,
     "end_time": "2022-11-17T03:07:57.814493",
     "exception": false,
     "start_time": "2022-11-17T03:07:57.782315",
     "status": "completed"
    },
    "tags": []
   },
   "outputs": [
    {
     "data": {
      "text/html": [
       "<div>\n",
       "<style scoped>\n",
       "    .dataframe tbody tr th:only-of-type {\n",
       "        vertical-align: middle;\n",
       "    }\n",
       "\n",
       "    .dataframe tbody tr th {\n",
       "        vertical-align: top;\n",
       "    }\n",
       "\n",
       "    .dataframe thead th {\n",
       "        text-align: right;\n",
       "    }\n",
       "</style>\n",
       "<table border=\"1\" class=\"dataframe\">\n",
       "  <thead>\n",
       "    <tr style=\"text-align: right;\">\n",
       "      <th></th>\n",
       "      <th>INDEX</th>\n",
       "      <th>YEAR</th>\n",
       "      <th>Month</th>\n",
       "      <th>avg_rainfall</th>\n",
       "      <th>Date</th>\n",
       "    </tr>\n",
       "  </thead>\n",
       "  <tbody>\n",
       "    <tr>\n",
       "      <th>0</th>\n",
       "      <td>0</td>\n",
       "      <td>1901</td>\n",
       "      <td>1</td>\n",
       "      <td>3.5</td>\n",
       "      <td>1901-01-01</td>\n",
       "    </tr>\n",
       "    <tr>\n",
       "      <th>117</th>\n",
       "      <td>117</td>\n",
       "      <td>1901</td>\n",
       "      <td>2</td>\n",
       "      <td>18.8</td>\n",
       "      <td>1901-02-01</td>\n",
       "    </tr>\n",
       "    <tr>\n",
       "      <th>234</th>\n",
       "      <td>234</td>\n",
       "      <td>1901</td>\n",
       "      <td>3</td>\n",
       "      <td>7.1</td>\n",
       "      <td>1901-03-01</td>\n",
       "    </tr>\n",
       "    <tr>\n",
       "      <th>351</th>\n",
       "      <td>351</td>\n",
       "      <td>1901</td>\n",
       "      <td>4</td>\n",
       "      <td>67.2</td>\n",
       "      <td>1901-04-01</td>\n",
       "    </tr>\n",
       "    <tr>\n",
       "      <th>468</th>\n",
       "      <td>468</td>\n",
       "      <td>1901</td>\n",
       "      <td>5</td>\n",
       "      <td>65.5</td>\n",
       "      <td>1901-05-01</td>\n",
       "    </tr>\n",
       "    <tr>\n",
       "      <th>...</th>\n",
       "      <td>...</td>\n",
       "      <td>...</td>\n",
       "      <td>...</td>\n",
       "      <td>...</td>\n",
       "      <td>...</td>\n",
       "    </tr>\n",
       "    <tr>\n",
       "      <th>818</th>\n",
       "      <td>818</td>\n",
       "      <td>2017</td>\n",
       "      <td>7</td>\n",
       "      <td>76.8</td>\n",
       "      <td>2017-07-01</td>\n",
       "    </tr>\n",
       "    <tr>\n",
       "      <th>935</th>\n",
       "      <td>935</td>\n",
       "      <td>2017</td>\n",
       "      <td>8</td>\n",
       "      <td>105.8</td>\n",
       "      <td>2017-08-01</td>\n",
       "    </tr>\n",
       "    <tr>\n",
       "      <th>1052</th>\n",
       "      <td>1052</td>\n",
       "      <td>2017</td>\n",
       "      <td>9</td>\n",
       "      <td>206.6</td>\n",
       "      <td>2017-09-01</td>\n",
       "    </tr>\n",
       "    <tr>\n",
       "      <th>1169</th>\n",
       "      <td>1169</td>\n",
       "      <td>2017</td>\n",
       "      <td>11</td>\n",
       "      <td>4.9</td>\n",
       "      <td>2017-11-01</td>\n",
       "    </tr>\n",
       "    <tr>\n",
       "      <th>1286</th>\n",
       "      <td>1286</td>\n",
       "      <td>2017</td>\n",
       "      <td>12</td>\n",
       "      <td>0.9</td>\n",
       "      <td>2017-12-01</td>\n",
       "    </tr>\n",
       "  </tbody>\n",
       "</table>\n",
       "<p>1287 rows × 5 columns</p>\n",
       "</div>"
      ],
      "text/plain": [
       "      INDEX  YEAR  Month  avg_rainfall       Date\n",
       "0         0  1901      1           3.5 1901-01-01\n",
       "117     117  1901      2          18.8 1901-02-01\n",
       "234     234  1901      3           7.1 1901-03-01\n",
       "351     351  1901      4          67.2 1901-04-01\n",
       "468     468  1901      5          65.5 1901-05-01\n",
       "...     ...   ...    ...           ...        ...\n",
       "818     818  2017      7          76.8 2017-07-01\n",
       "935     935  2017      8         105.8 2017-08-01\n",
       "1052   1052  2017      9         206.6 2017-09-01\n",
       "1169   1169  2017     11           4.9 2017-11-01\n",
       "1286   1286  2017     12           0.9 2017-12-01\n",
       "\n",
       "[1287 rows x 5 columns]"
      ]
     },
     "execution_count": 4,
     "metadata": {},
     "output_type": "execute_result"
    }
   ],
   "source": [
    "# Adding a date column\n",
    "df['Date']=pd.to_datetime(df.assign(Day=1).loc[:,['YEAR','Month','Day']])\n",
    "df"
   ]
  },
  {
   "cell_type": "code",
   "execution_count": 5,
   "id": "18f9f55d",
   "metadata": {
    "execution": {
     "iopub.execute_input": "2022-11-17T03:07:57.826362Z",
     "iopub.status.busy": "2022-11-17T03:07:57.825544Z",
     "iopub.status.idle": "2022-11-17T03:07:57.831438Z",
     "shell.execute_reply": "2022-11-17T03:07:57.830813Z"
    },
    "papermill": {
     "duration": 0.013619,
     "end_time": "2022-11-17T03:07:57.833208",
     "exception": false,
     "start_time": "2022-11-17T03:07:57.819589",
     "status": "completed"
    },
    "tags": []
   },
   "outputs": [],
   "source": [
    "X=np.asanyarray(df[['YEAR','Month']]).astype('int')\n",
    "y=np.asanyarray(df['avg_rainfall']).astype('int')"
   ]
  },
  {
   "cell_type": "code",
   "execution_count": 6,
   "id": "906ce39c",
   "metadata": {
    "execution": {
     "iopub.execute_input": "2022-11-17T03:07:57.845311Z",
     "iopub.status.busy": "2022-11-17T03:07:57.844384Z",
     "iopub.status.idle": "2022-11-17T03:07:57.865561Z",
     "shell.execute_reply": "2022-11-17T03:07:57.864321Z"
    },
    "papermill": {
     "duration": 0.029985,
     "end_time": "2022-11-17T03:07:57.868097",
     "exception": false,
     "start_time": "2022-11-17T03:07:57.838112",
     "status": "completed"
    },
    "tags": []
   },
   "outputs": [],
   "source": [
    "from sklearn.model_selection import train_test_split\n",
    "X_train, X_test, y_train, y_test = train_test_split(X, y, test_size=0.3, random_state=10)"
   ]
  },
  {
   "cell_type": "code",
   "execution_count": 7,
   "id": "9a953e9b",
   "metadata": {
    "execution": {
     "iopub.execute_input": "2022-11-17T03:07:57.880377Z",
     "iopub.status.busy": "2022-11-17T03:07:57.879977Z",
     "iopub.status.idle": "2022-11-17T03:07:58.888407Z",
     "shell.execute_reply": "2022-11-17T03:07:58.887578Z"
    },
    "papermill": {
     "duration": 1.01724,
     "end_time": "2022-11-17T03:07:58.890663",
     "exception": false,
     "start_time": "2022-11-17T03:07:57.873423",
     "status": "completed"
    },
    "tags": []
   },
   "outputs": [
    {
     "data": {
      "text/html": [
       "<style type='text/css'>\n",
       ".datatable table.frame { margin-bottom: 0; }\n",
       ".datatable table.frame thead { border-bottom: none; }\n",
       ".datatable table.frame tr.coltypes td {  color: #FFFFFF;  line-height: 6px;  padding: 0 0.5em;}\n",
       ".datatable .bool    { background: #DDDD99; }\n",
       ".datatable .object  { background: #565656; }\n",
       ".datatable .int     { background: #5D9E5D; }\n",
       ".datatable .float   { background: #4040CC; }\n",
       ".datatable .str     { background: #CC4040; }\n",
       ".datatable .time    { background: #40CC40; }\n",
       ".datatable .row_index {  background: var(--jp-border-color3);  border-right: 1px solid var(--jp-border-color0);  color: var(--jp-ui-font-color3);  font-size: 9px;}\n",
       ".datatable .frame tbody td { text-align: left; }\n",
       ".datatable .frame tr.coltypes .row_index {  background: var(--jp-border-color0);}\n",
       ".datatable th:nth-child(2) { padding-left: 12px; }\n",
       ".datatable .hellipsis {  color: var(--jp-cell-editor-border-color);}\n",
       ".datatable .vellipsis {  background: var(--jp-layout-color0);  color: var(--jp-cell-editor-border-color);}\n",
       ".datatable .na {  color: var(--jp-cell-editor-border-color);  font-size: 80%;}\n",
       ".datatable .sp {  opacity: 0.25;}\n",
       ".datatable .footer { font-size: 9px; }\n",
       ".datatable .frame_dimensions {  background: var(--jp-border-color3);  border-top: 1px solid var(--jp-border-color0);  color: var(--jp-ui-font-color3);  display: inline-block;  opacity: 0.6;  padding: 1px 10px 1px 5px;}\n",
       "</style>\n"
      ],
      "text/plain": [
       "<IPython.core.display.HTML object>"
      ]
     },
     "metadata": {},
     "output_type": "display_data"
    }
   ],
   "source": [
    "from lightgbm import LGBMRegressor\n",
    "\n",
    "model_lgb = LGBMRegressor()\n",
    "model_lgb.fit(X_train, y_train)\n",
    "\n",
    "y_pred_lgb = model_lgb.predict(X_train)"
   ]
  },
  {
   "cell_type": "code",
   "execution_count": 8,
   "id": "3f75d68e",
   "metadata": {
    "execution": {
     "iopub.execute_input": "2022-11-17T03:07:58.903542Z",
     "iopub.status.busy": "2022-11-17T03:07:58.902832Z",
     "iopub.status.idle": "2022-11-17T03:07:58.908471Z",
     "shell.execute_reply": "2022-11-17T03:07:58.907212Z"
    },
    "papermill": {
     "duration": 0.014091,
     "end_time": "2022-11-17T03:07:58.910630",
     "exception": false,
     "start_time": "2022-11-17T03:07:58.896539",
     "status": "completed"
    },
    "tags": []
   },
   "outputs": [
    {
     "name": "stdout",
     "output_type": "stream",
     "text": [
      "26.75813179543014\n"
     ]
    }
   ],
   "source": [
    "error=mean_squared_error(y_train, y_pred_lgb, sample_weight=None, multioutput='uniform_average', squared=False)\n",
    "print(error)"
   ]
  },
  {
   "cell_type": "code",
   "execution_count": 9,
   "id": "85a84290",
   "metadata": {
    "execution": {
     "iopub.execute_input": "2022-11-17T03:07:58.923543Z",
     "iopub.status.busy": "2022-11-17T03:07:58.922971Z",
     "iopub.status.idle": "2022-11-17T03:07:58.931214Z",
     "shell.execute_reply": "2022-11-17T03:07:58.930421Z"
    },
    "papermill": {
     "duration": 0.017155,
     "end_time": "2022-11-17T03:07:58.933520",
     "exception": false,
     "start_time": "2022-11-17T03:07:58.916365",
     "status": "completed"
    },
    "tags": []
   },
   "outputs": [
    {
     "name": "stdout",
     "output_type": "stream",
     "text": [
      "35.05423861757538\n"
     ]
    }
   ],
   "source": [
    "y_pred_lgb = model_lgb.predict(X_test)\n",
    "\n",
    "error=mean_squared_error(y_test, y_pred_lgb, sample_weight=None, multioutput='uniform_average', squared=False)\n",
    "print(error)"
   ]
  },
  {
   "cell_type": "code",
   "execution_count": 10,
   "id": "977dc1ee",
   "metadata": {
    "execution": {
     "iopub.execute_input": "2022-11-17T03:07:58.947100Z",
     "iopub.status.busy": "2022-11-17T03:07:58.946661Z",
     "iopub.status.idle": "2022-11-17T03:07:59.337053Z",
     "shell.execute_reply": "2022-11-17T03:07:59.336226Z"
    },
    "papermill": {
     "duration": 0.39956,
     "end_time": "2022-11-17T03:07:59.339637",
     "exception": false,
     "start_time": "2022-11-17T03:07:58.940077",
     "status": "completed"
    },
    "tags": []
   },
   "outputs": [],
   "source": [
    "import xgboost as xgb\n",
    "\n",
    "xg_reg = xgb.XGBRegressor()\n",
    "xg_reg.fit(X_train,y_train)\n",
    "\n",
    "y_pred_xgb = xg_reg.predict(X_train)"
   ]
  },
  {
   "cell_type": "code",
   "execution_count": 11,
   "id": "c535acd2",
   "metadata": {
    "execution": {
     "iopub.execute_input": "2022-11-17T03:07:59.354699Z",
     "iopub.status.busy": "2022-11-17T03:07:59.353760Z",
     "iopub.status.idle": "2022-11-17T03:07:59.360098Z",
     "shell.execute_reply": "2022-11-17T03:07:59.359113Z"
    },
    "papermill": {
     "duration": 0.016177,
     "end_time": "2022-11-17T03:07:59.361992",
     "exception": false,
     "start_time": "2022-11-17T03:07:59.345815",
     "status": "completed"
    },
    "tags": []
   },
   "outputs": [
    {
     "name": "stdout",
     "output_type": "stream",
     "text": [
      "11.276584324264357\n"
     ]
    }
   ],
   "source": [
    "error=mean_squared_error(y_train, y_pred_xgb, sample_weight=None, multioutput='uniform_average', squared=False)\n",
    "print(error)"
   ]
  },
  {
   "cell_type": "code",
   "execution_count": 12,
   "id": "92a14729",
   "metadata": {
    "execution": {
     "iopub.execute_input": "2022-11-17T03:07:59.374351Z",
     "iopub.status.busy": "2022-11-17T03:07:59.374006Z",
     "iopub.status.idle": "2022-11-17T03:07:59.385009Z",
     "shell.execute_reply": "2022-11-17T03:07:59.383550Z"
    },
    "papermill": {
     "duration": 0.021239,
     "end_time": "2022-11-17T03:07:59.388639",
     "exception": false,
     "start_time": "2022-11-17T03:07:59.367400",
     "status": "completed"
    },
    "tags": []
   },
   "outputs": [
    {
     "name": "stdout",
     "output_type": "stream",
     "text": [
      "39.82378689505708\n"
     ]
    }
   ],
   "source": [
    "y_pred_lgb = xg_reg.predict(X_test)\n",
    "\n",
    "error=mean_squared_error(y_test, y_pred_lgb, sample_weight=None, multioutput='uniform_average', squared=False)\n",
    "print(error)"
   ]
  },
  {
   "cell_type": "code",
   "execution_count": 13,
   "id": "1e7b0421",
   "metadata": {
    "execution": {
     "iopub.execute_input": "2022-11-17T03:07:59.401412Z",
     "iopub.status.busy": "2022-11-17T03:07:59.401046Z",
     "iopub.status.idle": "2022-11-17T03:07:59.568243Z",
     "shell.execute_reply": "2022-11-17T03:07:59.566872Z"
    },
    "papermill": {
     "duration": 0.176837,
     "end_time": "2022-11-17T03:07:59.571200",
     "exception": false,
     "start_time": "2022-11-17T03:07:59.394363",
     "status": "completed"
    },
    "tags": []
   },
   "outputs": [],
   "source": [
    "from sklearn.tree import DecisionTreeRegressor\n",
    "\n",
    "dectree = DecisionTreeRegressor(max_depth=10)\n",
    "dectree.fit(X_train,y_train)\n",
    "\n",
    "y_pred_tree = dectree.predict(X_train)"
   ]
  },
  {
   "cell_type": "code",
   "execution_count": 14,
   "id": "9f783bba",
   "metadata": {
    "execution": {
     "iopub.execute_input": "2022-11-17T03:07:59.584974Z",
     "iopub.status.busy": "2022-11-17T03:07:59.584001Z",
     "iopub.status.idle": "2022-11-17T03:07:59.590496Z",
     "shell.execute_reply": "2022-11-17T03:07:59.588785Z"
    },
    "papermill": {
     "duration": 0.016037,
     "end_time": "2022-11-17T03:07:59.593027",
     "exception": false,
     "start_time": "2022-11-17T03:07:59.576990",
     "status": "completed"
    },
    "tags": []
   },
   "outputs": [
    {
     "name": "stdout",
     "output_type": "stream",
     "text": [
      "21.828186208940863\n"
     ]
    }
   ],
   "source": [
    "error=mean_squared_error(y_train, y_pred_tree, sample_weight=None, multioutput='uniform_average', squared=False)\n",
    "print(error)"
   ]
  },
  {
   "cell_type": "code",
   "execution_count": 15,
   "id": "ed617dd9",
   "metadata": {
    "execution": {
     "iopub.execute_input": "2022-11-17T03:07:59.605576Z",
     "iopub.status.busy": "2022-11-17T03:07:59.605189Z",
     "iopub.status.idle": "2022-11-17T03:07:59.614351Z",
     "shell.execute_reply": "2022-11-17T03:07:59.612751Z"
    },
    "papermill": {
     "duration": 0.018967,
     "end_time": "2022-11-17T03:07:59.617574",
     "exception": false,
     "start_time": "2022-11-17T03:07:59.598607",
     "status": "completed"
    },
    "tags": []
   },
   "outputs": [
    {
     "name": "stdout",
     "output_type": "stream",
     "text": [
      "42.35618137220603\n"
     ]
    }
   ],
   "source": [
    "y_pred_tree = dectree.predict(X_test)\n",
    "error=mean_squared_error(y_test, y_pred_tree, sample_weight=None, multioutput='uniform_average', squared=False)\n",
    "print(error)"
   ]
  },
  {
   "cell_type": "code",
   "execution_count": 16,
   "id": "c4403d68",
   "metadata": {
    "execution": {
     "iopub.execute_input": "2022-11-17T03:07:59.630807Z",
     "iopub.status.busy": "2022-11-17T03:07:59.630370Z",
     "iopub.status.idle": "2022-11-17T03:07:59.874255Z",
     "shell.execute_reply": "2022-11-17T03:07:59.873132Z"
    },
    "papermill": {
     "duration": 0.253255,
     "end_time": "2022-11-17T03:07:59.876643",
     "exception": false,
     "start_time": "2022-11-17T03:07:59.623388",
     "status": "completed"
    },
    "tags": []
   },
   "outputs": [],
   "source": [
    "from sklearn.ensemble import RandomForestRegressor\n",
    "\n",
    "rf = RandomForestRegressor()\n",
    "rf.fit(X_train,y_train)\n",
    "\n",
    "y_pred_rf = rf.predict(X_train)"
   ]
  },
  {
   "cell_type": "code",
   "execution_count": 17,
   "id": "906e4e31",
   "metadata": {
    "execution": {
     "iopub.execute_input": "2022-11-17T03:07:59.889492Z",
     "iopub.status.busy": "2022-11-17T03:07:59.889137Z",
     "iopub.status.idle": "2022-11-17T03:07:59.895418Z",
     "shell.execute_reply": "2022-11-17T03:07:59.894149Z"
    },
    "papermill": {
     "duration": 0.015025,
     "end_time": "2022-11-17T03:07:59.897349",
     "exception": false,
     "start_time": "2022-11-17T03:07:59.882324",
     "status": "completed"
    },
    "tags": []
   },
   "outputs": [
    {
     "name": "stdout",
     "output_type": "stream",
     "text": [
      "14.46518797358372\n"
     ]
    }
   ],
   "source": [
    "error=mean_squared_error(y_train, y_pred_rf, sample_weight=None, multioutput='uniform_average', squared=False)\n",
    "print(error)"
   ]
  },
  {
   "cell_type": "code",
   "execution_count": 18,
   "id": "59080500",
   "metadata": {
    "execution": {
     "iopub.execute_input": "2022-11-17T03:07:59.910534Z",
     "iopub.status.busy": "2022-11-17T03:07:59.910143Z",
     "iopub.status.idle": "2022-11-17T03:07:59.918226Z",
     "shell.execute_reply": "2022-11-17T03:07:59.916847Z"
    },
    "papermill": {
     "duration": 0.017991,
     "end_time": "2022-11-17T03:07:59.921103",
     "exception": false,
     "start_time": "2022-11-17T03:07:59.903112",
     "status": "completed"
    },
    "tags": []
   },
   "outputs": [
    {
     "name": "stdout",
     "output_type": "stream",
     "text": [
      "42.35618137220603\n"
     ]
    }
   ],
   "source": [
    "y_pred_rf = dectree.predict(X_test)\n",
    "error=mean_squared_error(y_test, y_pred_rf, sample_weight=None, multioutput='uniform_average', squared=False)\n",
    "print(error)"
   ]
  }
 ],
 "metadata": {
  "kernelspec": {
   "display_name": "Python 3",
   "language": "python",
   "name": "python3"
  },
  "language_info": {
   "codemirror_mode": {
    "name": "ipython",
    "version": 3
   },
   "file_extension": ".py",
   "mimetype": "text/x-python",
   "name": "python",
   "nbconvert_exporter": "python",
   "pygments_lexer": "ipython3",
   "version": "3.7.12"
  },
  "papermill": {
   "default_parameters": {},
   "duration": 11.959824,
   "end_time": "2022-11-17T03:08:00.750180",
   "environment_variables": {},
   "exception": null,
   "input_path": "__notebook__.ipynb",
   "output_path": "__notebook__.ipynb",
   "parameters": {},
   "start_time": "2022-11-17T03:07:48.790356",
   "version": "2.3.4"
  }
 },
 "nbformat": 4,
 "nbformat_minor": 5
}
